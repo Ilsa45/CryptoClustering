# Import required libraries and dependencies
import pandas as pd
import hvplot.pandas
from sklearn.cluster import KMeans
from sklearn.decomposition import PCA
from sklearn.preprocessing import StandardScaler


# Load the data into a Pandas DataFrame
df_market_data = pd.read_csv(
    "Resources/crypto_market_data.csv",
    index_col="coin_id")

# Display sample data
df_market_data.head(10)


# Generate summary statistics
df_market_data.describe()


# Plot your data to see what's in your DataFrame
df_market_data.hvplot.line(
    width=800,
    height=400,
    rot=90
)








# Use the `StandardScaler()` module from scikit-learn to normalize the data from the CSV file
market_scaled = StandardScaler().fit_transform(df_market_data[["price_change_percentage_24h", 
                    "price_change_percentage_7d","price_change_percentage_14d", "price_change_percentage_30d",
                    "price_change_percentage_60d", "price_change_percentage_200d", "price_change_percentage_1y"]])



# Create a DataFrame with the scaled data
market_scaled_df = pd.DataFrame(market_scaled, columns=["price_change_percentage_24h", 
                    "price_change_percentage_7d","price_change_percentage_14d", "price_change_percentage_30d",
                    "price_change_percentage_60d", "price_change_percentage_200d", "price_change_percentage_1y"])


# Copy the crypto names from the original DataFrame
market_scaled_df["coin_id"] = df_market_data.index

# Set the coin_id column as index
market_scaled_df = market_scaled_df.set_index("coin_id")

# Display the scaled DataFrame
market_scaled_df.head()








# Create a list with the number of k-values from 1 to 11
k= list(range(1,11))


# Create an empty list to store the inertia values
inertia = []

# Create a for loop to compute the inertia with each possible value of k
# Inside the loop:
# 1. Create a KMeans model using the loop counter for the n_clusters
for i in k:
    
# 2. Fit the model to the data using `df_market_data_scaled`
    k_model = KMeans(n_clusters=i, random_state=1)
    k_model.fit(market_scaled_df)
# 3. Append the model.inertia_ to the inertia list
    inertia.append(k_model.inertia_)


# Create a dictionary with the data to plot the Elbow curve
elbow_curve_data = {"k": k, "inertia": inertia}

# Create a DataFrame with the data to plot the Elbow curve
df_elbow = pd.DataFrame(elbow_curve_data)

#Display df
df_elbow.head()


# Plot a line chart with all the inertia values computed with
# the different values of k to visually identify the optimal value for k.
df_elbow.hvplot.line(
    x="k", 
    y="inertia", 
    title="Elbow Curve", 
    xticks=k
)











# Initialize the K-Means model using the best value for k
model = KMeans(n_clusters=4, random_state=1)


# Fit the K-Means model using the scaled DataFrame
model.fit(market_scaled_df)


# Predict the clusters to group the cryptocurrencies using the scaled DataFrame
k_4 = model.predict(market_scaled_df)

# Print the resulting array of cluster values.
print(k_4)


# Create a copy of the scaled DataFrame
coin_predictions_df = market_scaled_df.copy()

coin_predictions_df.head()


# Add a new column to the copy of the scaled DataFrame with the predicted clusters
coin_predictions_df["predicted_cluster"] = k_4

# Remove the extra 'predicted_cluster' column from the DataFrame
coin_predictions_df = coin_predictions_df.drop(columns=["predicted_cluster"])

# Display the copy of the scaled DataFrame
coin_predictions_df.head()


# Create a scatter plot using hvPlot by setting
# `x="price_change_percentage_24h"` and `y="price_change_percentage_7d"`.
coin_predictions_df.hvplot.scatter(
     x='price_change_percentage_24h',
     y='price_change_percentage_7d',
# Color the graph points with the labels found using K-Means and
# add the crypto name in the `hover_cols` parameter to identify
# the cryptocurrency represented by each data point.
     by='predicted_clusters',
     hover_cols = 'coin_id')








# Create a PCA model instance and set `n_components=3`.
pca = PCA(n_components=3)


# Use the PCA model with `fit_transform` to reduce the original scaled DataFrame
# down to three principal components.
market_data_pca = pca.fit_transform(coin_predictions_df)

# View the scaled PCA data
market_data_pca[: 5]


# Retrieve the explained variance to determine how much information
# can be attributed to each principal component.
pca.explained_variance_ratio_





# Create a new DataFrame with the PCA data.
market_pca_df = pd.DataFrame(
    market_data_pca,
    columns = ["PCA1", "PCA2", "PCA3"]
)

# Copy the crypto names from the original scaled DataFrame
market_pca_df['coin_id'] = df_market_data.index

# Set the coin_id column as index
market_pca_df = market_pca_df.set_index("coin_id")

# Display the scaled PCA DataFrame
market_pca_df.head()








# Create a list with the number of k-values from 1 to 11
k = list(range(1, 11))


# Create an empty list to store the inertia values
inertia2 = []

# Create a for loop to compute the inertia with each possible value of k
# Inside the loop:
# 1. Create a KMeans model using the loop counter for the n_clusters
for i in k:
# 2. Fit the model to the data using `df_market_data_pca`
    k_model = KMeans(n_clusters=i, random_state=1)
    k_model.fit(market_pca_df)
# 3. Append the model.inertia_ to the inertia list
    inertia2.append(k_model.inertia_)


# Create a dictionary with the data to plot the Elbow curve
elbow_curve_data2 = {"k": k, "inertia": inertia2}
# Create a DataFrame with the data to plot the Elbow curve
df_elbow_curve2 = pd.DataFrame(elbow_curve_data2)


# Plot a line chart with all the inertia values computed with
# the different values of k to visually identify the optimal value for k.
df_elbow_curve2.hvplot.line(
    x="k", 
    y="inertia", 
    title="Elbow Curve", 
    xticks=k
)








# Initialize the K-Means model using the best value for k
model = KMeans(n_clusters=4, random_state=1)


# Fit the K-Means model using the PCA data
model.fit(market_pca_df)


# Predict the clusters to group the cryptocurrencies using the scaled PCA DataFrame
clusters_predition = model.predict(market_pca_df)

# Print the resulting array of cluster values.
print(clusters_predition)


# Create a copy of the DataFrame with the PCA data
clusters_predition_df= market_pca_df.copy()

# Add a new column to the DataFrame with the predicted clusters
clusters_predition_df['clusters_predition'] = clusters_predition

# Display sample data
clusters_predition_df.head()


# Create a scatter plot using hvPlot by setting
# `x="PC1"` and `y="PC2"`.
clusters_predition_df.hvplot.scatter(
    x="PCA1",
    y="PCA2",
# Color the graph points with the labels found using K-Means and
    by = 'clusters_predition',
# add the crypto name in the `hover_cols` parameter to identify
# the cryptocurrency represented by each data point.
    hover_cols='coin_id'
)





# Composite plot to contrast the Elbow curves
df_elbow.hvplot.line(x="k", y="inertia", title= "Elbow Curve 1", xticks=k) + df_elbow_curve2.hvplot.line(x="k", y="inertia", title= "Elbow Curve 2",xticks=k)


# Composite plot to contrast the clusters
coin_predictions_df.hvplot.scatter( x='price_change_percentage_24h', y='price_change_percentage_7d',  title= "Cluster 1", by='predicted_clusters', hover_cols = 'coin_id') + clusters_predition_df.hvplot.scatter(x="PCA1", y="PCA2",title= "Cluster 2", by = 'clusters_predition', hover_cols='coin_id')






